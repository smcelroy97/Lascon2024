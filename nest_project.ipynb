{
 "cells": [
  {
   "cell_type": "code",
   "execution_count": null,
   "outputs": [],
   "source": [
    "import nest\n",
    "import numpy as np\n",
    "import matplotlib.pyplot as plt"
   ],
   "metadata": {
    "collapsed": false,
    "is_executing": true
   },
   "id": "474bbdb6aac4ebf0"
  },
  {
   "cell_type": "code",
   "execution_count": null,
   "outputs": [],
   "source": [
    "%matplotlib inline"
   ],
   "metadata": {
    "collapsed": false
   },
   "id": "e95a4486d1918694"
  },
  {
   "cell_type": "code",
   "execution_count": null,
   "outputs": [],
   "source": [
    "nest.ResetKernel()\n",
    "nest.resolution = 0.1\n",
    "\n",
    "# Create Gamma input\n",
    "g = nest.Create(\"sinusoidal_gamma_generator\",\n",
    "    params={\n",
    "        \"rate\": 100.0,\n",
    "        \"amplitude\": 90.0,\n",
    "        \"frequency\": 50.0,\n",
    "        \"phase\": 0.0,\n",
    "        \"order\": 3.0,\n",
    "        \"individual_spike_trains\": True,\n",
    "    })   # note the syntax for different order parameter of the two nodes\n",
    "\n",
    "# Create noise generators (E and I)\n",
    "noise = nest.Create('poisson_generator', 2,\n",
    "                    [{'rate': 70000.0}, {'rate': 20000.0}])\n",
    "voltmeter = nest.Create('voltmeter', params={'interval': 1.})\n",
    "\n",
    "\n",
    "pyr1spk = nest.Create('spike_recorder', params={'label': 'pyr1'})\n",
    "pyr2spk = nest.Create('spike_recorder', params={'label': 'pyr2'})\n",
    "pv1spk = nest.Create('spike_recorder', params={'label': 'pv1'})\n",
    "pv2spk = nest.Create('spike_recorder', params={'label': 'pv2'})\n",
    "s = nest.Create('spike_recorder', params={'label': 's'})\n",
    "\n",
    "pops = []                                  # Container for Pops\n",
    "\n",
    "# E Pop:\n",
    "pyr_1 = nest.Create('iaf_psc_alpha', 500)\n",
    "nest.Connect(voltmeter, pyr_1)\n",
    "pops.append(pyr_1)\n",
    "nest.Connect(pyr_1, pyr1spk)\n",
    "pyr_2 = nest.Create('iaf_psc_alpha', 500)\n",
    "nest.Connect(pyr_2, pyr2spk)\n",
    "pops.append(pyr_2)\n",
    "\n",
    "# I Pop\n",
    "pv_1 = nest.Create('iaf_psc_alpha', 250)\n",
    "nest.Connect(pv_1, pv1spk)\n",
    "pops.append(pv_1)\n",
    "pv_2 = nest.Create('iaf_psc_alpha', 250)\n",
    "nest.Connect(pv_2, pv2spk)\n",
    "pops.append(pv_1)\n",
    "\n",
    "# Connect Gamma to input layer\n",
    "nest.Connect(g, pyr_1)\n",
    "nest.Connect(g, pv_1)\n",
    "nest.Connect(g, s)\n",
    "\n",
    "# Connect noise to all\n",
    "for pop in pops:\n",
    "    nest.Connect(noise[:1], pop, syn_spec={'weight': 2.0, 'delay': 1.0})\n",
    "    nest.Connect(noise[1:], pop, syn_spec={'weight': -5.0, 'delay': 1.0})\n",
    "\n",
    "\n",
    "# Connect Pops\n",
    "nest.Connect(pyr_1, pyr_2, syn_spec={'weight': nest.random.lognormal(mean=1.0, std=0.2), 'delay': 1.0})\n",
    "nest.Connect(pyr_1, pv_2, syn_spec={'weight': nest.random.lognormal(mean=1.0, std=0.2), 'delay': 1.0})\n",
    "nest.Connect(pv_1, pyr_1, syn_spec={'weight': nest.random.lognormal(mean=-5.0, std=1.0), 'delay': 0.75})\n",
    "nest.Connect(pv_1, pyr_2, syn_spec={'weight': nest.random.lognormal(mean=-5.0, std=1.0), 'delay': 0.75})\n",
    "\n",
    "nest.Simulate(1000)\n",
    "\n",
    "nest.voltage_trace.from_device(voltmeter)"
   ],
   "metadata": {
    "collapsed": false
   },
   "id": "300dc75a97849a95"
  }
 ],
 "metadata": {
  "kernelspec": {
   "display_name": "Python 3",
   "language": "python",
   "name": "python3"
  },
  "language_info": {
   "codemirror_mode": {
    "name": "ipython",
    "version": 2
   },
   "file_extension": ".py",
   "mimetype": "text/x-python",
   "name": "python",
   "nbconvert_exporter": "python",
   "pygments_lexer": "ipython2",
   "version": "2.7.6"
  }
 },
 "nbformat": 4,
 "nbformat_minor": 5
}
